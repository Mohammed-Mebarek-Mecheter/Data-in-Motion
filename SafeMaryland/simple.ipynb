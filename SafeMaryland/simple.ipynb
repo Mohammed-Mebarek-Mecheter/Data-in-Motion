{
 "cells": [
  {
   "cell_type": "code",
   "id": "b7a22ee68b4969ad",
   "metadata": {
    "ExecuteTime": {
     "end_time": "2024-07-16T17:08:44.542712Z",
     "start_time": "2024-07-16T17:08:44.524721Z"
    }
   },
   "source": [
    "import pandas as pd\n",
    "from ydata_profiling import ProfileReport"
   ],
   "outputs": [],
   "execution_count": 21
  },
  {
   "cell_type": "code",
   "id": "45aaf67e1b3b1c46",
   "metadata": {
    "ExecuteTime": {
     "end_time": "2024-07-16T17:08:46.313113Z",
     "start_time": "2024-07-16T17:08:45.458074Z"
    }
   },
   "source": [
    "df = pd.read_csv('data/MD_Crime_Data.csv')\n",
    "profile = ProfileReport(df, title=\"Profiling Report\")"
   ],
   "outputs": [],
   "execution_count": 22
  },
  {
   "cell_type": "code",
   "id": "61879c64-8bbd-4af2-945a-f5c7a1150efe",
   "metadata": {
    "jupyter": {
     "is_executing": true
    },
    "ExecuteTime": {
     "start_time": "2024-07-16T17:08:56.795996Z"
    }
   },
   "source": "profile.to_notebook_iframe()",
   "outputs": [
    {
     "data": {
      "text/plain": [
       "Summarize dataset:   0%|          | 0/5 [00:00<?, ?it/s]"
      ],
      "application/vnd.jupyter.widget-view+json": {
       "version_major": 2,
       "version_minor": 0,
       "model_id": "1df9e03b79b34fd3b821b5b9a70c715a"
      }
     },
     "metadata": {},
     "output_type": "display_data"
    }
   ],
   "execution_count": null
  },
  {
   "metadata": {},
   "cell_type": "code",
   "source": "profile.to_file(\"MD_Crime_Data.html\")",
   "id": "e82d3e22d78f5959",
   "outputs": [],
   "execution_count": null
  }
 ],
 "metadata": {
  "kernelspec": {
   "display_name": "Python 3 (ipykernel)",
   "language": "python",
   "name": "python3"
  },
  "language_info": {
   "codemirror_mode": {
    "name": "ipython",
    "version": 3
   },
   "file_extension": ".py",
   "mimetype": "text/x-python",
   "name": "python",
   "nbconvert_exporter": "python",
   "pygments_lexer": "ipython3",
   "version": "3.8.19"
  }
 },
 "nbformat": 4,
 "nbformat_minor": 5
}
