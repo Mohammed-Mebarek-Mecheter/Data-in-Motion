{
 "cells": [
  {
   "cell_type": "code",
   "id": "initial_id",
   "metadata": {
    "collapsed": true,
    "ExecuteTime": {
     "end_time": "2024-07-16T18:12:10.158917Z",
     "start_time": "2024-07-16T18:12:10.132932Z"
    }
   },
   "source": "import pandas as pd",
   "outputs": [],
   "execution_count": 1
  },
  {
   "metadata": {
    "ExecuteTime": {
     "end_time": "2024-07-16T18:12:10.268458Z",
     "start_time": "2024-07-16T18:12:10.163916Z"
    }
   },
   "cell_type": "code",
   "source": "df = pd.read_csv(\"data/cleaned_MD_Crime_Data.csv\")",
   "id": "20e7d4fd28be108e",
   "outputs": [],
   "execution_count": 2
  },
  {
   "metadata": {
    "ExecuteTime": {
     "end_time": "2024-07-16T18:19:45.832398Z",
     "start_time": "2024-07-16T18:19:45.705472Z"
    }
   },
   "cell_type": "code",
   "source": [
    "# Select relevant columns for analysis\n",
    "crime_types = ['Murder', 'Rape', 'Robbery', 'AggAssault', 'BreakAndEnter', 'LarcenyTheft', 'MotorVehicleTheft']\n",
    "crime_data = df[crime_types + ['Jurisdiction', 'Population']].copy()  \n",
    "\n",
    "# Calculate crime rates per 100,000 people\n",
    "for crime_type in crime_types:\n",
    "    crime_data[f'{crime_type}RatePer100k'] = crime_data[crime_type] / crime_data['Population'] * 100000\n",
    "\n",
    "# Group by jurisdiction to find average crime rates\n",
    "average_crime_rates = crime_data.groupby('Jurisdiction')[[f'{crime_type}RatePer100k' for crime_type in crime_types]].mean()\n",
    "\n",
    "# Calculate state average crime rates\n",
    "state_average_crime_rates = average_crime_rates.mean(axis=1)\n",
    "\n",
    "# Find jurisdictions with highest and lowest crime rates\n",
    "highest_crime_rates = average_crime_rates.idxmax()\n",
    "lowest_crime_rates = average_crime_rates.idxmin()\n",
    "\n",
    "# Print results\n",
    "print(\"Jurisdictions with Highest Crime Rates:\")\n",
    "for crime_type, jurisdiction in highest_crime_rates.items():\n",
    "    print(f\"{crime_type}: {jurisdiction}\")\n",
    "\n",
    "print(\"\\nJurisdictions with Lowest Crime Rates:\")\n",
    "for crime_type, jurisdiction in lowest_crime_rates.items():\n",
    "    print(f\"{crime_type}: {jurisdiction}\")\n",
    "\n",
    "# Compare with state average\n",
    "print(\"\\nComparison with State Average:\")\n",
    "for crime_type, avg_rate in state_average_crime_rates.items():\n",
    "    print(f\"{crime_type}: State Average = {avg_rate:.2f}\")\n",
    "\n",
    "# Example: Print the state average crime rates for each crime type\n",
    "print(\"\\nState Average Crime Rates:\")\n",
    "for crime_type, rate in average_crime_rates.mean().items():\n",
    "    print(f\"{crime_type}: {rate:.2f}\")"
   ],
   "id": "6882500271cce321",
   "outputs": [
    {
     "name": "stdout",
     "output_type": "stream",
     "text": [
      "Jurisdictions with Highest Crime Rates:\n",
      "MurderRatePer100k: Prince George's County\n",
      "RapeRatePer100k: Worcester County\n",
      "RobberyRatePer100k: Prince George's County\n",
      "AggAssaultRatePer100k: Baltimore County\n",
      "BreakAndEnterRatePer100k: Worcester County\n",
      "LarcenyTheftRatePer100k: Worcester County\n",
      "MotorVehicleTheftRatePer100k: Baltimore City\n",
      "\n",
      "Jurisdictions with Lowest Crime Rates:\n",
      "MurderRatePer100k: Baltimore City\n",
      "RapeRatePer100k: Washington County\n",
      "RobberyRatePer100k: Garrett County\n",
      "AggAssaultRatePer100k: Montgomery County\n",
      "BreakAndEnterRatePer100k: Carroll County\n",
      "LarcenyTheftRatePer100k: Garrett County\n",
      "MotorVehicleTheftRatePer100k: Garrett County\n",
      "\n",
      "Comparison with State Average:\n",
      "Allegany County: State Average = 444.61\n",
      "Anne Arundel County: State Average = 592.03\n",
      "Baltimore City: State Average = 479.77\n",
      "Baltimore County: State Average = 710.24\n",
      "Calvert County: State Average = 328.96\n",
      "Caroline County: State Average = 398.42\n",
      "Carroll County: State Average = 299.00\n",
      "Cecil County: State Average = 500.76\n",
      "Charles County: State Average = 524.39\n",
      "Dorchester County: State Average = 589.85\n",
      "Frederick County: State Average = 378.10\n",
      "Garrett County: State Average = 287.16\n",
      "Harford County: State Average = 392.34\n",
      "Howard County: State Average = 527.67\n",
      "Kent County: State Average = 339.63\n",
      "Montgomery County: State Average = 484.05\n",
      "Prince George's County: State Average = 727.82\n",
      "Queen Anne's County: State Average = 348.12\n",
      "Somerset County: State Average = 423.69\n",
      "St. Mary's County: State Average = 399.63\n",
      "Talbot County: State Average = 448.82\n",
      "Washington County: State Average = 375.50\n",
      "Wicomico County: State Average = 719.08\n",
      "Worcester County: State Average = 962.55\n",
      "\n",
      "State Average Crime Rates:\n",
      "MurderRatePer100k: 3.92\n",
      "RapeRatePer100k: 25.20\n",
      "RobberyRatePer100k: 93.64\n",
      "AggAssaultRatePer100k: 298.50\n",
      "BreakAndEnterRatePer100k: 722.85\n",
      "LarcenyTheftRatePer100k: 2063.30\n",
      "MotorVehicleTheftRatePer100k: 199.89\n"
     ]
    }
   ],
   "execution_count": 7
  },
  {
   "metadata": {},
   "cell_type": "markdown",
   "source": [
    "### Jurisdictions with Highest Crime Rates:\n",
    "- **Prince George's County**:\n",
    "  - Murder Rate: Highest\n",
    "  - Robbery Rate: Highest\n",
    "- **Worcester County**:\n",
    "  - Rape Rate: Highest\n",
    "  - Break and Enter Rate: Highest\n",
    "  - Larceny Theft Rate: Highest\n",
    "- **Baltimore County**:\n",
    "  - Aggravated Assault Rate: Highest\n",
    "- **Baltimore City**:\n",
    "  - Motor Vehicle Theft Rate: Highest\n",
    "\n",
    "### Jurisdictions with Lowest Crime Rates:\n",
    "- **Garrett County**:\n",
    "  - Murder Rate: Lowest\n",
    "  - Robbery Rate: Lowest\n",
    "  - Break and Enter Rate: Lowest\n",
    "  - Larceny Theft Rate: Lowest\n",
    "  - Motor Vehicle Theft Rate: Lowest\n",
    "- **Montgomery County**:\n",
    "  - Aggravated Assault Rate: Lowest\n",
    "- **Washington County**:\n",
    "  - Rape Rate: Lowest\n",
    "\n",
    "### Comparison with State Average:\n",
    "- **Murder Rate**: Generally low across most jurisdictions.\n",
    "- **Rape Rate**: Higher variability; Worcester County stands out with the highest rate.\n",
    "- **Robbery Rate**: Highest in Prince George's County; generally high across several jurisdictions.\n",
    "- **Aggravated Assault Rate**: Highest in Baltimore County; generally lower in Montgomery County.\n",
    "- **Break and Enter Rate**: Highest in Worcester County; generally high across several jurisdictions.\n",
    "- **Larceny Theft Rate**: Highest in Worcester County; generally high across several jurisdictions.\n",
    "- **Motor Vehicle Theft Rate**: Highest in Baltimore City; generally higher in urban areas.\n",
    "\n",
    "### State Average Crime Rates:\n",
    "- **Murder Rate**: 3.92 per 100,000 people\n",
    "- **Rape Rate**: 25.20 per 100,000 people\n",
    "- **Robbery Rate**: 93.64 per 100,000 people\n",
    "- **Aggravated Assault Rate**: 298.50 per 100,000 people\n",
    "- **Break and Enter Rate**: 722.85 per 100,000 people\n",
    "- **Larceny Theft Rate**: 2063.30 per 100,000 people\n",
    "- **Motor Vehicle Theft Rate**: 199.89 per 100,000 people\n",
    "\n",
    "These results provide insights into the variation in crime rates across different types of crimes and jurisdictions in Maryland, highlighting areas that may require more attention in terms of law enforcement and crime prevention strategies."
   ],
   "id": "d43c827f40afa873"
  }
 ],
 "metadata": {
  "kernelspec": {
   "display_name": "Python 3",
   "language": "python",
   "name": "python3"
  },
  "language_info": {
   "codemirror_mode": {
    "name": "ipython",
    "version": 2
   },
   "file_extension": ".py",
   "mimetype": "text/x-python",
   "name": "python",
   "nbconvert_exporter": "python",
   "pygments_lexer": "ipython2",
   "version": "2.7.6"
  }
 },
 "nbformat": 4,
 "nbformat_minor": 5
}
